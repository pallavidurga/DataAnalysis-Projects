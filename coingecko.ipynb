{
  "nbformat": 4,
  "nbformat_minor": 0,
  "metadata": {
    "colab": {
      "provenance": []
    },
    "kernelspec": {
      "name": "python3",
      "display_name": "Python 3"
    },
    "language_info": {
      "name": "python"
    }
  },
  "cells": [
    {
      "cell_type": "code",
      "execution_count": null,
      "metadata": {
        "id": "GvcTyNCZPCz6",
        "colab": {
          "base_uri": "https://localhost:8080/"
        },
        "outputId": "aa94a574-ae94-42ed-99e4-d6f5d66c6935"
      },
      "outputs": [
        {
          "output_type": "stream",
          "name": "stdout",
          "text": [
            "1. Bitcoin (BTC)\n",
            "Current Price: 61854 USD\n",
            "Price Change (1h): 0.17315200246136808%\n",
            "Price Change (24h): -0.13196714731077866%\n",
            "Price Change (7d): 19.92638663408983%\n",
            "\n",
            "\n",
            "2. Ethereum (ETH)\n",
            "Current Price: 3412.86 USD\n",
            "Price Change (1h): 0.13639076500262567%\n",
            "Price Change (24h): 0.09233303989354333%\n",
            "Price Change (7d): 12.855730788572146%\n",
            "\n",
            "\n",
            "3. Tether (USDT)\n",
            "Current Price: 1.001 USD\n",
            "Price Change (1h): 0.009577084541011286%\n",
            "Price Change (24h): 0.10204318898303304%\n",
            "Price Change (7d): 0.13439880205184113%\n",
            "\n",
            "\n",
            "4. BNB (BNB)\n",
            "Current Price: 413.36 USD\n",
            "Price Change (1h): 0.2049734127249134%\n",
            "Price Change (24h): 1.2436250596928444%\n",
            "Price Change (7d): 8.850071386699145%\n",
            "\n",
            "\n",
            "5. Solana (SOL)\n",
            "Current Price: 129.58 USD\n",
            "Price Change (1h): -0.111507909777451%\n",
            "Price Change (24h): 0.6658357598207783%\n",
            "Price Change (7d): 26.661996524073718%\n",
            "\n",
            "\n"
          ]
        }
      ],
      "source": [
        "import requests\n",
        "# Replace 'YOUR_API_KEY' with your actual API key from coingechko\n",
        "API_KEY = 'CG-GWopmkTkdvj8UBDyCGUg8HZQ'\n",
        "# Function to fetch cryptocurrency data from CoinGecko\n",
        "def fetch_cryptocurrency_data():\n",
        "    url = 'https://api.coingecko.com/api/v3/coins/markets'\n",
        "    params = {\n",
        "        'vs_currency': 'usd',  # Currency to convert prices into (e.g., 'usd', 'eur')\n",
        "        'order': 'market_cap_desc',  # Order results by market capitalization descending\n",
        "        'per_page': 5,  # Limiting to the top 5 cryptocurrencies\n",
        "        'sparkline': False,  # Disable sparkline (price chart)\n",
        "        'price_change_percentage': '1h,24h,7d'  # Include price change percentages for 1 hour, 24 hours, and 7 days\n",
        "    }\n",
        "    response = requests.get(url, params=params)\n",
        "    if response.status_code == 200:\n",
        "        data = response.json()\n",
        "        # Printing cryptocurrency data\n",
        "        for index, crypto in enumerate(data):\n",
        "            print(f\"{index + 1}. {crypto['name']} ({crypto['symbol'].upper()})\")\n",
        "            print(f\"Current Price: {crypto['current_price']} {params['vs_currency'].upper()}\")\n",
        "            print(f\"Price Change (1h): {crypto['price_change_percentage_1h_in_currency']}%\")\n",
        "            print(f\"Price Change (24h): {crypto['price_change_percentage_24h_in_currency']}%\")\n",
        "            print(f\"Price Change (7d): {crypto['price_change_percentage_7d_in_currency']}%\")\n",
        "            print(\"\\n\")\n",
        "    else:\n",
        "        print('Error fetching cryptocurrency data')\n",
        "# Example usage\n",
        "fetch_cryptocurrency_data()"
      ]
    }
  ]
}